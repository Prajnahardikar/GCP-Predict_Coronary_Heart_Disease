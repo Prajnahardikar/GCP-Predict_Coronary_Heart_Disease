{
  "cells": [
    {
      "cell_type": "markdown",
      "source": [
        "# VS-Bank Inference Pipeline"
      ],
      "metadata": {
        "id": "g0YoHYfEkhUJ"
      },
      "id": "g0YoHYfEkhUJ"
    },
    {
      "cell_type": "markdown",
      "source": [
        "## Install required packages"
      ],
      "metadata": {
        "id": "LxkPyZV4g3Fj"
      },
      "id": "LxkPyZV4g3Fj"
    },
    {
      "cell_type": "code",
      "source": [
        "! pip install kfp"
      ],
      "metadata": {
        "id": "zmXV5HQqnf7P",
        "colab": {
          "base_uri": "https://localhost:8080/"
        },
        "executionInfo": {
          "status": "ok",
          "timestamp": 1714666893106,
          "user_tz": 420,
          "elapsed": 11643,
          "user": {
            "displayName": "",
            "userId": ""
          }
        },
        "outputId": "cd3c00e7-9886-4c67-c7f3-592f9bae0c49"
      },
      "id": "zmXV5HQqnf7P",
      "execution_count": null,
      "outputs": [
        {
          "output_type": "stream",
          "name": "stdout",
          "text": [
            "Requirement already satisfied: kfp in /usr/local/lib/python3.10/dist-packages (2.7.0)\n",
            "Requirement already satisfied: click<9,>=8.0.0 in /usr/local/lib/python3.10/dist-packages (from kfp) (8.1.7)\n",
            "Requirement already satisfied: docstring-parser<1,>=0.7.3 in /usr/local/lib/python3.10/dist-packages (from kfp) (0.16)\n",
            "Requirement already satisfied: google-api-core!=2.0.*,!=2.1.*,!=2.2.*,!=2.3.0,<3.0.0dev,>=1.31.5 in /usr/local/lib/python3.10/dist-packages (from kfp) (2.11.1)\n",
            "Requirement already satisfied: google-auth<3,>=1.6.1 in /usr/local/lib/python3.10/dist-packages (from kfp) (2.27.0)\n",
            "Requirement already satisfied: google-cloud-storage<3,>=2.2.1 in /usr/local/lib/python3.10/dist-packages (from kfp) (2.8.0)\n",
            "Requirement already satisfied: kfp-pipeline-spec==0.3.0 in /usr/local/lib/python3.10/dist-packages (from kfp) (0.3.0)\n",
            "Requirement already satisfied: kfp-server-api<2.1.0,>=2.0.0 in /usr/local/lib/python3.10/dist-packages (from kfp) (2.0.5)\n",
            "Requirement already satisfied: kubernetes<27,>=8.0.0 in /usr/local/lib/python3.10/dist-packages (from kfp) (26.1.0)\n",
            "Requirement already satisfied: protobuf<5,>=4.21.1 in /usr/local/lib/python3.10/dist-packages (from kfp) (4.25.3)\n",
            "Requirement already satisfied: PyYAML<7,>=5.3 in /usr/local/lib/python3.10/dist-packages (from kfp) (6.0.1)\n",
            "Requirement already satisfied: requests-toolbelt<1,>=0.8.0 in /usr/local/lib/python3.10/dist-packages (from kfp) (0.10.1)\n",
            "Requirement already satisfied: tabulate<1,>=0.8.6 in /usr/local/lib/python3.10/dist-packages (from kfp) (0.9.0)\n",
            "Requirement already satisfied: urllib3<2.0.0 in /usr/local/lib/python3.10/dist-packages (from kfp) (1.26.18)\n",
            "Requirement already satisfied: googleapis-common-protos<2.0.dev0,>=1.56.2 in /usr/local/lib/python3.10/dist-packages (from google-api-core!=2.0.*,!=2.1.*,!=2.2.*,!=2.3.0,<3.0.0dev,>=1.31.5->kfp) (1.63.0)\n",
            "Requirement already satisfied: requests<3.0.0.dev0,>=2.18.0 in /usr/local/lib/python3.10/dist-packages (from google-api-core!=2.0.*,!=2.1.*,!=2.2.*,!=2.3.0,<3.0.0dev,>=1.31.5->kfp) (2.31.0)\n",
            "Requirement already satisfied: cachetools<6.0,>=2.0.0 in /usr/local/lib/python3.10/dist-packages (from google-auth<3,>=1.6.1->kfp) (5.3.3)\n",
            "Requirement already satisfied: pyasn1-modules>=0.2.1 in /usr/local/lib/python3.10/dist-packages (from google-auth<3,>=1.6.1->kfp) (0.4.0)\n",
            "Requirement already satisfied: rsa<5,>=3.1.4 in /usr/local/lib/python3.10/dist-packages (from google-auth<3,>=1.6.1->kfp) (4.9)\n",
            "Requirement already satisfied: google-cloud-core<3.0dev,>=2.3.0 in /usr/local/lib/python3.10/dist-packages (from google-cloud-storage<3,>=2.2.1->kfp) (2.3.3)\n",
            "Requirement already satisfied: google-resumable-media>=2.3.2 in /usr/local/lib/python3.10/dist-packages (from google-cloud-storage<3,>=2.2.1->kfp) (2.7.0)\n",
            "Requirement already satisfied: six>=1.10 in /usr/local/lib/python3.10/dist-packages (from kfp-server-api<2.1.0,>=2.0.0->kfp) (1.16.0)\n",
            "Requirement already satisfied: certifi in /usr/local/lib/python3.10/dist-packages (from kfp-server-api<2.1.0,>=2.0.0->kfp) (2024.2.2)\n",
            "Requirement already satisfied: python-dateutil in /usr/local/lib/python3.10/dist-packages (from kfp-server-api<2.1.0,>=2.0.0->kfp) (2.8.2)\n",
            "Requirement already satisfied: setuptools>=21.0.0 in /usr/local/lib/python3.10/dist-packages (from kubernetes<27,>=8.0.0->kfp) (67.7.2)\n",
            "Requirement already satisfied: websocket-client!=0.40.0,!=0.41.*,!=0.42.*,>=0.32.0 in /usr/local/lib/python3.10/dist-packages (from kubernetes<27,>=8.0.0->kfp) (1.7.0)\n",
            "Requirement already satisfied: requests-oauthlib in /usr/local/lib/python3.10/dist-packages (from kubernetes<27,>=8.0.0->kfp) (1.3.1)\n",
            "Requirement already satisfied: google-crc32c<2.0dev,>=1.0 in /usr/local/lib/python3.10/dist-packages (from google-resumable-media>=2.3.2->google-cloud-storage<3,>=2.2.1->kfp) (1.5.0)\n",
            "Requirement already satisfied: pyasn1<0.7.0,>=0.4.6 in /usr/local/lib/python3.10/dist-packages (from pyasn1-modules>=0.2.1->google-auth<3,>=1.6.1->kfp) (0.6.0)\n",
            "Requirement already satisfied: charset-normalizer<4,>=2 in /usr/local/lib/python3.10/dist-packages (from requests<3.0.0.dev0,>=2.18.0->google-api-core!=2.0.*,!=2.1.*,!=2.2.*,!=2.3.0,<3.0.0dev,>=1.31.5->kfp) (3.3.2)\n",
            "Requirement already satisfied: idna<4,>=2.5 in /usr/local/lib/python3.10/dist-packages (from requests<3.0.0.dev0,>=2.18.0->google-api-core!=2.0.*,!=2.1.*,!=2.2.*,!=2.3.0,<3.0.0dev,>=1.31.5->kfp) (3.7)\n",
            "Requirement already satisfied: oauthlib>=3.0.0 in /usr/local/lib/python3.10/dist-packages (from requests-oauthlib->kubernetes<27,>=8.0.0->kfp) (3.2.2)\n"
          ]
        }
      ]
    },
    {
      "cell_type": "code",
      "source": [
        "!pip install google-cloud-pipeline-components"
      ],
      "metadata": {
        "id": "aG3wxHPGpcJw",
        "colab": {
          "base_uri": "https://localhost:8080/"
        },
        "executionInfo": {
          "status": "ok",
          "timestamp": 1714666906799,
          "user_tz": 420,
          "elapsed": 13700,
          "user": {
            "displayName": "",
            "userId": ""
          }
        },
        "outputId": "925029c9-ffe2-4792-c6a4-4eae8e47390c"
      },
      "id": "aG3wxHPGpcJw",
      "execution_count": null,
      "outputs": [
        {
          "output_type": "stream",
          "name": "stdout",
          "text": [
            "Requirement already satisfied: google-cloud-pipeline-components in /usr/local/lib/python3.10/dist-packages (2.14.0)\n",
            "Requirement already satisfied: google-api-core!=2.0.*,!=2.1.*,!=2.2.*,!=2.3.0,<3.0.0dev,>=1.31.5 in /usr/local/lib/python3.10/dist-packages (from google-cloud-pipeline-components) (2.11.1)\n",
            "Requirement already satisfied: kfp<=2.7.0,>=2.6.0 in /usr/local/lib/python3.10/dist-packages (from google-cloud-pipeline-components) (2.7.0)\n",
            "Requirement already satisfied: google-cloud-aiplatform<2,>=1.14.0 in /usr/local/lib/python3.10/dist-packages (from google-cloud-pipeline-components) (1.47.0)\n",
            "Requirement already satisfied: Jinja2<4,>=3.1.2 in /usr/local/lib/python3.10/dist-packages (from google-cloud-pipeline-components) (3.1.3)\n",
            "Requirement already satisfied: googleapis-common-protos<2.0.dev0,>=1.56.2 in /usr/local/lib/python3.10/dist-packages (from google-api-core!=2.0.*,!=2.1.*,!=2.2.*,!=2.3.0,<3.0.0dev,>=1.31.5->google-cloud-pipeline-components) (1.63.0)\n",
            "Requirement already satisfied: protobuf!=3.20.0,!=3.20.1,!=4.21.0,!=4.21.1,!=4.21.2,!=4.21.3,!=4.21.4,!=4.21.5,<5.0.0.dev0,>=3.19.5 in /usr/local/lib/python3.10/dist-packages (from google-api-core!=2.0.*,!=2.1.*,!=2.2.*,!=2.3.0,<3.0.0dev,>=1.31.5->google-cloud-pipeline-components) (4.25.3)\n",
            "Requirement already satisfied: google-auth<3.0.dev0,>=2.14.1 in /usr/local/lib/python3.10/dist-packages (from google-api-core!=2.0.*,!=2.1.*,!=2.2.*,!=2.3.0,<3.0.0dev,>=1.31.5->google-cloud-pipeline-components) (2.27.0)\n",
            "Requirement already satisfied: requests<3.0.0.dev0,>=2.18.0 in /usr/local/lib/python3.10/dist-packages (from google-api-core!=2.0.*,!=2.1.*,!=2.2.*,!=2.3.0,<3.0.0dev,>=1.31.5->google-cloud-pipeline-components) (2.31.0)\n",
            "Requirement already satisfied: proto-plus<2.0.0dev,>=1.22.0 in /usr/local/lib/python3.10/dist-packages (from google-cloud-aiplatform<2,>=1.14.0->google-cloud-pipeline-components) (1.23.0)\n",
            "Requirement already satisfied: packaging>=14.3 in /usr/local/lib/python3.10/dist-packages (from google-cloud-aiplatform<2,>=1.14.0->google-cloud-pipeline-components) (24.0)\n",
            "Requirement already satisfied: google-cloud-storage<3.0.0dev,>=1.32.0 in /usr/local/lib/python3.10/dist-packages (from google-cloud-aiplatform<2,>=1.14.0->google-cloud-pipeline-components) (2.8.0)\n",
            "Requirement already satisfied: google-cloud-bigquery!=3.20.0,<4.0.0dev,>=1.15.0 in /usr/local/lib/python3.10/dist-packages (from google-cloud-aiplatform<2,>=1.14.0->google-cloud-pipeline-components) (3.12.0)\n",
            "Requirement already satisfied: google-cloud-resource-manager<3.0.0dev,>=1.3.3 in /usr/local/lib/python3.10/dist-packages (from google-cloud-aiplatform<2,>=1.14.0->google-cloud-pipeline-components) (1.12.3)\n",
            "Requirement already satisfied: shapely<3.0.0dev in /usr/local/lib/python3.10/dist-packages (from google-cloud-aiplatform<2,>=1.14.0->google-cloud-pipeline-components) (2.0.3)\n",
            "Requirement already satisfied: pydantic<3 in /usr/local/lib/python3.10/dist-packages (from google-cloud-aiplatform<2,>=1.14.0->google-cloud-pipeline-components) (1.10.15)\n",
            "Requirement already satisfied: docstring-parser<1 in /usr/local/lib/python3.10/dist-packages (from google-cloud-aiplatform<2,>=1.14.0->google-cloud-pipeline-components) (0.16)\n",
            "Requirement already satisfied: MarkupSafe>=2.0 in /usr/local/lib/python3.10/dist-packages (from Jinja2<4,>=3.1.2->google-cloud-pipeline-components) (2.1.5)\n",
            "Requirement already satisfied: click<9,>=8.0.0 in /usr/local/lib/python3.10/dist-packages (from kfp<=2.7.0,>=2.6.0->google-cloud-pipeline-components) (8.1.7)\n",
            "Requirement already satisfied: kfp-pipeline-spec==0.3.0 in /usr/local/lib/python3.10/dist-packages (from kfp<=2.7.0,>=2.6.0->google-cloud-pipeline-components) (0.3.0)\n",
            "Requirement already satisfied: kfp-server-api<2.1.0,>=2.0.0 in /usr/local/lib/python3.10/dist-packages (from kfp<=2.7.0,>=2.6.0->google-cloud-pipeline-components) (2.0.5)\n",
            "Requirement already satisfied: kubernetes<27,>=8.0.0 in /usr/local/lib/python3.10/dist-packages (from kfp<=2.7.0,>=2.6.0->google-cloud-pipeline-components) (26.1.0)\n",
            "Requirement already satisfied: PyYAML<7,>=5.3 in /usr/local/lib/python3.10/dist-packages (from kfp<=2.7.0,>=2.6.0->google-cloud-pipeline-components) (6.0.1)\n",
            "Requirement already satisfied: requests-toolbelt<1,>=0.8.0 in /usr/local/lib/python3.10/dist-packages (from kfp<=2.7.0,>=2.6.0->google-cloud-pipeline-components) (0.10.1)\n",
            "Requirement already satisfied: tabulate<1,>=0.8.6 in /usr/local/lib/python3.10/dist-packages (from kfp<=2.7.0,>=2.6.0->google-cloud-pipeline-components) (0.9.0)\n",
            "Requirement already satisfied: urllib3<2.0.0 in /usr/local/lib/python3.10/dist-packages (from kfp<=2.7.0,>=2.6.0->google-cloud-pipeline-components) (1.26.18)\n",
            "Requirement already satisfied: grpcio<2.0dev,>=1.33.2 in /usr/local/lib/python3.10/dist-packages (from google-api-core!=2.0.*,!=2.1.*,!=2.2.*,!=2.3.0,<3.0.0dev,>=1.31.5->google-cloud-pipeline-components) (1.62.1)\n",
            "Requirement already satisfied: grpcio-status<2.0.dev0,>=1.33.2 in /usr/local/lib/python3.10/dist-packages (from google-api-core!=2.0.*,!=2.1.*,!=2.2.*,!=2.3.0,<3.0.0dev,>=1.31.5->google-cloud-pipeline-components) (1.48.2)\n",
            "Requirement already satisfied: cachetools<6.0,>=2.0.0 in /usr/local/lib/python3.10/dist-packages (from google-auth<3.0.dev0,>=2.14.1->google-api-core!=2.0.*,!=2.1.*,!=2.2.*,!=2.3.0,<3.0.0dev,>=1.31.5->google-cloud-pipeline-components) (5.3.3)\n",
            "Requirement already satisfied: pyasn1-modules>=0.2.1 in /usr/local/lib/python3.10/dist-packages (from google-auth<3.0.dev0,>=2.14.1->google-api-core!=2.0.*,!=2.1.*,!=2.2.*,!=2.3.0,<3.0.0dev,>=1.31.5->google-cloud-pipeline-components) (0.4.0)\n",
            "Requirement already satisfied: rsa<5,>=3.1.4 in /usr/local/lib/python3.10/dist-packages (from google-auth<3.0.dev0,>=2.14.1->google-api-core!=2.0.*,!=2.1.*,!=2.2.*,!=2.3.0,<3.0.0dev,>=1.31.5->google-cloud-pipeline-components) (4.9)\n",
            "Requirement already satisfied: google-cloud-core<3.0.0dev,>=1.6.0 in /usr/local/lib/python3.10/dist-packages (from google-cloud-bigquery!=3.20.0,<4.0.0dev,>=1.15.0->google-cloud-aiplatform<2,>=1.14.0->google-cloud-pipeline-components) (2.3.3)\n",
            "Requirement already satisfied: google-resumable-media<3.0dev,>=0.6.0 in /usr/local/lib/python3.10/dist-packages (from google-cloud-bigquery!=3.20.0,<4.0.0dev,>=1.15.0->google-cloud-aiplatform<2,>=1.14.0->google-cloud-pipeline-components) (2.7.0)\n",
            "Requirement already satisfied: python-dateutil<3.0dev,>=2.7.2 in /usr/local/lib/python3.10/dist-packages (from google-cloud-bigquery!=3.20.0,<4.0.0dev,>=1.15.0->google-cloud-aiplatform<2,>=1.14.0->google-cloud-pipeline-components) (2.8.2)\n",
            "Requirement already satisfied: grpc-google-iam-v1<1.0.0dev,>=0.12.4 in /usr/local/lib/python3.10/dist-packages (from google-cloud-resource-manager<3.0.0dev,>=1.3.3->google-cloud-aiplatform<2,>=1.14.0->google-cloud-pipeline-components) (0.13.0)\n",
            "Requirement already satisfied: six>=1.10 in /usr/local/lib/python3.10/dist-packages (from kfp-server-api<2.1.0,>=2.0.0->kfp<=2.7.0,>=2.6.0->google-cloud-pipeline-components) (1.16.0)\n",
            "Requirement already satisfied: certifi in /usr/local/lib/python3.10/dist-packages (from kfp-server-api<2.1.0,>=2.0.0->kfp<=2.7.0,>=2.6.0->google-cloud-pipeline-components) (2024.2.2)\n",
            "Requirement already satisfied: setuptools>=21.0.0 in /usr/local/lib/python3.10/dist-packages (from kubernetes<27,>=8.0.0->kfp<=2.7.0,>=2.6.0->google-cloud-pipeline-components) (67.7.2)\n",
            "Requirement already satisfied: websocket-client!=0.40.0,!=0.41.*,!=0.42.*,>=0.32.0 in /usr/local/lib/python3.10/dist-packages (from kubernetes<27,>=8.0.0->kfp<=2.7.0,>=2.6.0->google-cloud-pipeline-components) (1.7.0)\n",
            "Requirement already satisfied: requests-oauthlib in /usr/local/lib/python3.10/dist-packages (from kubernetes<27,>=8.0.0->kfp<=2.7.0,>=2.6.0->google-cloud-pipeline-components) (1.3.1)\n",
            "Requirement already satisfied: typing-extensions>=4.2.0 in /usr/local/lib/python3.10/dist-packages (from pydantic<3->google-cloud-aiplatform<2,>=1.14.0->google-cloud-pipeline-components) (4.11.0)\n",
            "Requirement already satisfied: charset-normalizer<4,>=2 in /usr/local/lib/python3.10/dist-packages (from requests<3.0.0.dev0,>=2.18.0->google-api-core!=2.0.*,!=2.1.*,!=2.2.*,!=2.3.0,<3.0.0dev,>=1.31.5->google-cloud-pipeline-components) (3.3.2)\n",
            "Requirement already satisfied: idna<4,>=2.5 in /usr/local/lib/python3.10/dist-packages (from requests<3.0.0.dev0,>=2.18.0->google-api-core!=2.0.*,!=2.1.*,!=2.2.*,!=2.3.0,<3.0.0dev,>=1.31.5->google-cloud-pipeline-components) (3.7)\n",
            "Requirement already satisfied: numpy<2,>=1.14 in /usr/local/lib/python3.10/dist-packages (from shapely<3.0.0dev->google-cloud-aiplatform<2,>=1.14.0->google-cloud-pipeline-components) (1.25.2)\n",
            "Requirement already satisfied: google-crc32c<2.0dev,>=1.0 in /usr/local/lib/python3.10/dist-packages (from google-resumable-media<3.0dev,>=0.6.0->google-cloud-bigquery!=3.20.0,<4.0.0dev,>=1.15.0->google-cloud-aiplatform<2,>=1.14.0->google-cloud-pipeline-components) (1.5.0)\n",
            "Requirement already satisfied: pyasn1<0.7.0,>=0.4.6 in /usr/local/lib/python3.10/dist-packages (from pyasn1-modules>=0.2.1->google-auth<3.0.dev0,>=2.14.1->google-api-core!=2.0.*,!=2.1.*,!=2.2.*,!=2.3.0,<3.0.0dev,>=1.31.5->google-cloud-pipeline-components) (0.6.0)\n",
            "Requirement already satisfied: oauthlib>=3.0.0 in /usr/local/lib/python3.10/dist-packages (from requests-oauthlib->kubernetes<27,>=8.0.0->kfp<=2.7.0,>=2.6.0->google-cloud-pipeline-components) (3.2.2)\n"
          ]
        }
      ]
    },
    {
      "cell_type": "code",
      "source": [
        "!pip install gcsfs"
      ],
      "metadata": {
        "id": "84u2hUWp63hh",
        "colab": {
          "base_uri": "https://localhost:8080/"
        },
        "executionInfo": {
          "status": "ok",
          "timestamp": 1714666918815,
          "user_tz": 420,
          "elapsed": 12022,
          "user": {
            "displayName": "",
            "userId": ""
          }
        },
        "outputId": "05d3689e-8e36-47b9-d6fb-87c6ff491c4d"
      },
      "id": "84u2hUWp63hh",
      "execution_count": null,
      "outputs": [
        {
          "output_type": "stream",
          "name": "stdout",
          "text": [
            "Requirement already satisfied: gcsfs in /usr/local/lib/python3.10/dist-packages (2023.6.0)\n",
            "Requirement already satisfied: aiohttp!=4.0.0a0,!=4.0.0a1 in /usr/local/lib/python3.10/dist-packages (from gcsfs) (3.9.5)\n",
            "Requirement already satisfied: decorator>4.1.2 in /usr/local/lib/python3.10/dist-packages (from gcsfs) (4.4.2)\n",
            "Requirement already satisfied: fsspec==2023.6.0 in /usr/local/lib/python3.10/dist-packages (from gcsfs) (2023.6.0)\n",
            "Requirement already satisfied: google-auth>=1.2 in /usr/local/lib/python3.10/dist-packages (from gcsfs) (2.27.0)\n",
            "Requirement already satisfied: google-auth-oauthlib in /usr/local/lib/python3.10/dist-packages (from gcsfs) (1.2.0)\n",
            "Requirement already satisfied: google-cloud-storage in /usr/local/lib/python3.10/dist-packages (from gcsfs) (2.8.0)\n",
            "Requirement already satisfied: requests in /usr/local/lib/python3.10/dist-packages (from gcsfs) (2.31.0)\n",
            "Requirement already satisfied: aiosignal>=1.1.2 in /usr/local/lib/python3.10/dist-packages (from aiohttp!=4.0.0a0,!=4.0.0a1->gcsfs) (1.3.1)\n",
            "Requirement already satisfied: attrs>=17.3.0 in /usr/local/lib/python3.10/dist-packages (from aiohttp!=4.0.0a0,!=4.0.0a1->gcsfs) (23.2.0)\n",
            "Requirement already satisfied: frozenlist>=1.1.1 in /usr/local/lib/python3.10/dist-packages (from aiohttp!=4.0.0a0,!=4.0.0a1->gcsfs) (1.4.1)\n",
            "Requirement already satisfied: multidict<7.0,>=4.5 in /usr/local/lib/python3.10/dist-packages (from aiohttp!=4.0.0a0,!=4.0.0a1->gcsfs) (6.0.5)\n",
            "Requirement already satisfied: yarl<2.0,>=1.0 in /usr/local/lib/python3.10/dist-packages (from aiohttp!=4.0.0a0,!=4.0.0a1->gcsfs) (1.9.4)\n",
            "Requirement already satisfied: async-timeout<5.0,>=4.0 in /usr/local/lib/python3.10/dist-packages (from aiohttp!=4.0.0a0,!=4.0.0a1->gcsfs) (4.0.3)\n",
            "Requirement already satisfied: cachetools<6.0,>=2.0.0 in /usr/local/lib/python3.10/dist-packages (from google-auth>=1.2->gcsfs) (5.3.3)\n",
            "Requirement already satisfied: pyasn1-modules>=0.2.1 in /usr/local/lib/python3.10/dist-packages (from google-auth>=1.2->gcsfs) (0.4.0)\n",
            "Requirement already satisfied: rsa<5,>=3.1.4 in /usr/local/lib/python3.10/dist-packages (from google-auth>=1.2->gcsfs) (4.9)\n",
            "Requirement already satisfied: requests-oauthlib>=0.7.0 in /usr/local/lib/python3.10/dist-packages (from google-auth-oauthlib->gcsfs) (1.3.1)\n",
            "Requirement already satisfied: google-api-core!=2.0.*,!=2.1.*,!=2.2.*,!=2.3.0,<3.0.0dev,>=1.31.5 in /usr/local/lib/python3.10/dist-packages (from google-cloud-storage->gcsfs) (2.11.1)\n",
            "Requirement already satisfied: google-cloud-core<3.0dev,>=2.3.0 in /usr/local/lib/python3.10/dist-packages (from google-cloud-storage->gcsfs) (2.3.3)\n",
            "Requirement already satisfied: google-resumable-media>=2.3.2 in /usr/local/lib/python3.10/dist-packages (from google-cloud-storage->gcsfs) (2.7.0)\n",
            "Requirement already satisfied: charset-normalizer<4,>=2 in /usr/local/lib/python3.10/dist-packages (from requests->gcsfs) (3.3.2)\n",
            "Requirement already satisfied: idna<4,>=2.5 in /usr/local/lib/python3.10/dist-packages (from requests->gcsfs) (3.7)\n",
            "Requirement already satisfied: urllib3<3,>=1.21.1 in /usr/local/lib/python3.10/dist-packages (from requests->gcsfs) (1.26.18)\n",
            "Requirement already satisfied: certifi>=2017.4.17 in /usr/local/lib/python3.10/dist-packages (from requests->gcsfs) (2024.2.2)\n",
            "Requirement already satisfied: googleapis-common-protos<2.0.dev0,>=1.56.2 in /usr/local/lib/python3.10/dist-packages (from google-api-core!=2.0.*,!=2.1.*,!=2.2.*,!=2.3.0,<3.0.0dev,>=1.31.5->google-cloud-storage->gcsfs) (1.63.0)\n",
            "Requirement already satisfied: protobuf!=3.20.0,!=3.20.1,!=4.21.0,!=4.21.1,!=4.21.2,!=4.21.3,!=4.21.4,!=4.21.5,<5.0.0.dev0,>=3.19.5 in /usr/local/lib/python3.10/dist-packages (from google-api-core!=2.0.*,!=2.1.*,!=2.2.*,!=2.3.0,<3.0.0dev,>=1.31.5->google-cloud-storage->gcsfs) (4.25.3)\n",
            "Requirement already satisfied: google-crc32c<2.0dev,>=1.0 in /usr/local/lib/python3.10/dist-packages (from google-resumable-media>=2.3.2->google-cloud-storage->gcsfs) (1.5.0)\n",
            "Requirement already satisfied: pyasn1<0.7.0,>=0.4.6 in /usr/local/lib/python3.10/dist-packages (from pyasn1-modules>=0.2.1->google-auth>=1.2->gcsfs) (0.6.0)\n",
            "Requirement already satisfied: oauthlib>=3.0.0 in /usr/local/lib/python3.10/dist-packages (from requests-oauthlib>=0.7.0->google-auth-oauthlib->gcsfs) (3.2.2)\n"
          ]
        }
      ]
    },
    {
      "cell_type": "code",
      "source": [
        "!pip install fsspec"
      ],
      "metadata": {
        "id": "nrkYZJkxiwZ3",
        "colab": {
          "base_uri": "https://localhost:8080/"
        },
        "executionInfo": {
          "status": "ok",
          "timestamp": 1714666931158,
          "user_tz": 420,
          "elapsed": 12359,
          "user": {
            "displayName": "",
            "userId": ""
          }
        },
        "outputId": "5a3e5525-99c6-4fd1-ae32-477d54ec3827"
      },
      "id": "nrkYZJkxiwZ3",
      "execution_count": null,
      "outputs": [
        {
          "output_type": "stream",
          "name": "stdout",
          "text": [
            "Requirement already satisfied: fsspec in /usr/local/lib/python3.10/dist-packages (2023.6.0)\n"
          ]
        }
      ]
    },
    {
      "cell_type": "code",
      "source": [
        "!pip install scikit-learn"
      ],
      "metadata": {
        "id": "vyQIEz4jqWqk",
        "colab": {
          "base_uri": "https://localhost:8080/"
        },
        "executionInfo": {
          "status": "ok",
          "timestamp": 1714666942694,
          "user_tz": 420,
          "elapsed": 11553,
          "user": {
            "displayName": "",
            "userId": ""
          }
        },
        "outputId": "c34bacb6-7d67-42e1-8daa-8e09af19cda3"
      },
      "id": "vyQIEz4jqWqk",
      "execution_count": null,
      "outputs": [
        {
          "output_type": "stream",
          "name": "stdout",
          "text": [
            "Requirement already satisfied: scikit-learn in /usr/local/lib/python3.10/dist-packages (1.2.2)\n",
            "Requirement already satisfied: numpy>=1.17.3 in /usr/local/lib/python3.10/dist-packages (from scikit-learn) (1.25.2)\n",
            "Requirement already satisfied: scipy>=1.3.2 in /usr/local/lib/python3.10/dist-packages (from scikit-learn) (1.11.4)\n",
            "Requirement already satisfied: joblib>=1.1.1 in /usr/local/lib/python3.10/dist-packages (from scikit-learn) (1.4.0)\n",
            "Requirement already satisfied: threadpoolctl>=2.0.0 in /usr/local/lib/python3.10/dist-packages (from scikit-learn) (3.4.0)\n"
          ]
        }
      ]
    },
    {
      "cell_type": "markdown",
      "source": [
        "#  Set parameters, initialize aiplatform client library, and import needed nlibraries"
      ],
      "metadata": {
        "id": "iWyCC-sd-NX2"
      },
      "id": "iWyCC-sd-NX2"
    },
    {
      "cell_type": "code",
      "source": [
        "# Set parameters\n",
        "project_id = 'ise543-module7-homework-418819'\n",
        "location = 'us-central1'"
      ],
      "metadata": {
        "id": "0is-1ZChh7TU"
      },
      "id": "0is-1ZChh7TU",
      "execution_count": null,
      "outputs": []
    },
    {
      "cell_type": "code",
      "source": [
        "from google.cloud import aiplatform\n",
        "aiplatform.init(project=project_id, location=location)\n",
        "\n",
        "from kfp.v2.dsl import pipeline, component, component, InputPath, OutputPath, Dataset\n",
        "import joblib\n",
        "import gcsfs\n",
        "import fsspec\n",
        "import pandas as pd\n",
        "import numpy as np"
      ],
      "metadata": {
        "id": "POu_bl7VBqLp",
        "executionInfo": {
          "status": "ok",
          "timestamp": 1714666946547,
          "user_tz": 420,
          "elapsed": 3859,
          "user": {
            "displayName": "",
            "userId": ""
          }
        },
        "colab": {
          "base_uri": "https://localhost:8080/"
        },
        "outputId": "98ed9c68-c3d6-4874-b38a-728ff241099f"
      },
      "id": "POu_bl7VBqLp",
      "execution_count": null,
      "outputs": [
        {
          "output_type": "stream",
          "name": "stderr",
          "text": [
            "<ipython-input-7-e6535a591253>:4: DeprecationWarning: The module `kfp.v2` is deprecated and will be removed in a futureversion. Please import directly from the `kfp` namespace, instead of `kfp.v2`.\n",
            "  from kfp.v2.dsl import pipeline, component, component, InputPath, OutputPath, Dataset\n"
          ]
        }
      ]
    },
    {
      "cell_type": "markdown",
      "source": [
        "## Configure and test connections to training pipeline"
      ],
      "metadata": {
        "id": "xOGvRGWqlLaq"
      },
      "id": "xOGvRGWqlLaq"
    },
    {
      "cell_type": "code",
      "source": [
        "iqr_artifact_path = \"gs://finalproject_ise543/753516815850/fp-pipeline-20240501210458/outlier-training_-2892169060877860864/executor_output.json\"\n",
        "imputed_artifact_path = \"gs://finalproject_ise543/753516815850/fp-pipeline-20240501210458/impute-training_7484124480583761920/executor_output.json\"\n",
        "scaler_path = 'gs://finalproject_ise543/753516815850/fp-pipeline-20240501210458/normalise-training_1719516957549527040/scaler_path'\n",
        "model_path = 'gs://finalproject_ise543/753516815850/fp-pipeline-20240501210458/train-model_1143056205246103552/trained_model_artifact'\n"
      ],
      "metadata": {
        "id": "trSFiU8glK6r"
      },
      "id": "trSFiU8glK6r",
      "execution_count": null,
      "outputs": []
    },
    {
      "cell_type": "markdown",
      "source": [
        "### Test access to IQR values"
      ],
      "metadata": {
        "id": "sV_-3h8WnZaw"
      },
      "id": "sV_-3h8WnZaw"
    },
    {
      "cell_type": "code",
      "source": [
        "iqr_dictionary = pd.read_json(iqr_artifact_path).to_dict()\n",
        "iqr_dictionary"
      ],
      "metadata": {
        "colab": {
          "base_uri": "https://localhost:8080/"
        },
        "id": "r7U_8VUXlpvu",
        "executionInfo": {
          "status": "ok",
          "timestamp": 1714666947013,
          "user_tz": 420,
          "elapsed": 471,
          "user": {
            "displayName": "",
            "userId": ""
          }
        },
        "outputId": "11e9c1ca-e69d-40f4-ae6f-1ea06ed65566"
      },
      "id": "r7U_8VUXlpvu",
      "execution_count": null,
      "outputs": [
        {
          "output_type": "execute_result",
          "data": {
            "text/plain": [
              "{'artifacts': {'iqr_values': {'artifacts': [{'name': 'projects/753516815850/locations/us-central1/metadataStores/default/artifacts/15269864420767101183',\n",
              "     'uri': 'gs://finalproject_ise543/753516815850/fp-pipeline-20240501210458/outlier-training_-2892169060877860864/iqr_values',\n",
              "     'metadata': {'columns': 'patientID, male, age, education, currentSmoker, cigsPerDay, BPMeds, prevalentStroke, prevalentHyp, diabetes, totChol, sysBP, diaBP, BMI, heartRate, TenYearCHD, a1c, income_log, education_2, education_3, education_4, education_5',\n",
              "      'Q1': {'patientID': 332212.25,\n",
              "       'male': 0.0,\n",
              "       'age': 42.0,\n",
              "       'education': 1.0,\n",
              "       'currentSmoker': 0.0,\n",
              "       'cigsPerDay': 10.0,\n",
              "       'BPMeds': 0.0,\n",
              "       'prevalentStroke': 0.0,\n",
              "       'prevalentHyp': 0.0,\n",
              "       'diabetes': 0.0,\n",
              "       'totChol': 205.0,\n",
              "       'sysBP': 117.0,\n",
              "       'diaBP': 75.0,\n",
              "       'BMI': 23.03,\n",
              "       'heartRate': 68.0,\n",
              "       'TenYearCHD': 0.0,\n",
              "       'a1c': 3.733771801235036,\n",
              "       'income_log': 9.51569044208137,\n",
              "       'education_2': 0.0,\n",
              "       'education_3': 0.0,\n",
              "       'education_4': 0.0,\n",
              "       'education_5': 0.0},\n",
              "      'Q3': {'patientID': 768879.75,\n",
              "       'male': 1.0,\n",
              "       'age': 56.0,\n",
              "       'education': 3.0,\n",
              "       'currentSmoker': 1.0,\n",
              "       'cigsPerDay': 20.0,\n",
              "       'BPMeds': 0.0,\n",
              "       'prevalentStroke': 0.0,\n",
              "       'prevalentHyp': 1.0,\n",
              "       'diabetes': 0.0,\n",
              "       'totChol': 263.0,\n",
              "       'sysBP': 143.5,\n",
              "       'diaBP': 90.0,\n",
              "       'BMI': 27.99,\n",
              "       'heartRate': 82.0,\n",
              "       'TenYearCHD': 0.0,\n",
              "       'a1c': 4.5590758870940284,\n",
              "       'income_log': 9.974702918031971,\n",
              "       'education_2': 1.0,\n",
              "       'education_3': 0.0,\n",
              "       'education_4': 0.0,\n",
              "       'education_5': 0.0},\n",
              "      'IQR': {'patientID': 436667.5,\n",
              "       'male': 1.0,\n",
              "       'age': 14.0,\n",
              "       'education': 2.0,\n",
              "       'currentSmoker': 1.0,\n",
              "       'cigsPerDay': 10.0,\n",
              "       'BPMeds': 0.0,\n",
              "       'prevalentStroke': 0.0,\n",
              "       'prevalentHyp': 1.0,\n",
              "       'diabetes': 0.0,\n",
              "       'totChol': 58.0,\n",
              "       'sysBP': 26.5,\n",
              "       'diaBP': 15.0,\n",
              "       'BMI': 4.959999999999997,\n",
              "       'heartRate': 14.0,\n",
              "       'TenYearCHD': 0.0,\n",
              "       'a1c': 0.8253040858589921,\n",
              "       'income_log': 0.459012475950601,\n",
              "       'education_2': 1.0,\n",
              "       'education_3': 0.0,\n",
              "       'education_4': 0.0,\n",
              "       'education_5': 0.0}}}]},\n",
              "  'training_outlier_output_path': {'artifacts': [{'name': 'projects/753516815850/locations/us-central1/metadataStores/default/artifacts/4631299425704548641',\n",
              "     'uri': 'gs://finalproject_ise543/753516815850/fp-pipeline-20240501210458/outlier-training_-2892169060877860864/training_outlier_output_path',\n",
              "     'metadata': {}}]}}}"
            ]
          },
          "metadata": {},
          "execution_count": 9
        }
      ]
    },
    {
      "cell_type": "markdown",
      "source": [
        "#### Extract parameter value from Python dictionary"
      ],
      "metadata": {
        "id": "8GvLlbxfltIx"
      },
      "id": "8GvLlbxfltIx"
    },
    {
      "cell_type": "code",
      "source": [
        "Q1 = pd.Series(iqr_dictionary['artifacts']['iqr_values']['artifacts'][0]['metadata']['Q1'])\n",
        "Q3 = pd.Series(iqr_dictionary['artifacts']['iqr_values']['artifacts'][0]['metadata']['Q3'])\n",
        "IQR = pd.Series(iqr_dictionary['artifacts']['iqr_values']['artifacts'][0]['metadata']['IQR'])"
      ],
      "metadata": {
        "id": "CI1gV_eQlsiC"
      },
      "id": "CI1gV_eQlsiC",
      "execution_count": null,
      "outputs": []
    },
    {
      "cell_type": "markdown",
      "source": [
        "### Test paths to Median Values for imputation"
      ],
      "metadata": {
        "id": "oPSjc-qJmNjb"
      },
      "id": "oPSjc-qJmNjb"
    },
    {
      "cell_type": "code",
      "source": [
        "impute_dictionary = pd.read_json(imputed_artifact_path).to_dict()\n",
        "impute_dictionary"
      ],
      "metadata": {
        "colab": {
          "base_uri": "https://localhost:8080/"
        },
        "id": "673MF1iq8YJE",
        "executionInfo": {
          "status": "ok",
          "timestamp": 1714666947235,
          "user_tz": 420,
          "elapsed": 225,
          "user": {
            "displayName": "",
            "userId": ""
          }
        },
        "outputId": "a26aa940-527f-41c3-f51b-eaf9e078eadf"
      },
      "id": "673MF1iq8YJE",
      "execution_count": null,
      "outputs": [
        {
          "output_type": "execute_result",
          "data": {
            "text/plain": [
              "{'artifacts': {'imputed_dataset_path': {'artifacts': [{'name': 'projects/753516815850/locations/us-central1/metadataStores/default/artifacts/10730424141939125835',\n",
              "     'uri': 'gs://finalproject_ise543/753516815850/fp-pipeline-20240501210458/impute-training_7484124480583761920/imputed_dataset_path',\n",
              "     'metadata': {}}]},\n",
              "  'imputed_values': {'artifacts': [{'name': 'projects/753516815850/locations/us-central1/metadataStores/default/artifacts/15584009842476833504',\n",
              "     'uri': 'gs://finalproject_ise543/753516815850/fp-pipeline-20240501210458/impute-training_7484124480583761920/imputed_values',\n",
              "     'metadata': {'columns': 'cigsPerDay, BPMeds, totChol, BMI, heartRate, a1c',\n",
              "      'medians': {'cigsPerDay': 20.0,\n",
              "       'BPMeds': 0.0,\n",
              "       'totChol': 233.0,\n",
              "       'BMI': 25.38,\n",
              "       'heartRate': 75.0,\n",
              "       'a1c': 4.124756767649438}}}]}}}"
            ]
          },
          "metadata": {},
          "execution_count": 11
        }
      ]
    },
    {
      "cell_type": "code",
      "source": [
        "imputed_values = pd.Series(impute_dictionary['artifacts']['imputed_values']['artifacts'][0]['metadata']['medians'])\n",
        "imputed_values"
      ],
      "metadata": {
        "colab": {
          "base_uri": "https://localhost:8080/"
        },
        "id": "9y91WC9c9C5m",
        "executionInfo": {
          "status": "ok",
          "timestamp": 1714666947235,
          "user_tz": 420,
          "elapsed": 4,
          "user": {
            "displayName": "",
            "userId": ""
          }
        },
        "outputId": "c9a800e3-c771-41aa-92bc-83237b6883f8"
      },
      "id": "9y91WC9c9C5m",
      "execution_count": null,
      "outputs": [
        {
          "output_type": "execute_result",
          "data": {
            "text/plain": [
              "cigsPerDay     20.000000\n",
              "BPMeds          0.000000\n",
              "totChol       233.000000\n",
              "BMI            25.380000\n",
              "heartRate      75.000000\n",
              "a1c             4.124757\n",
              "dtype: float64"
            ]
          },
          "metadata": {},
          "execution_count": 12
        }
      ]
    },
    {
      "cell_type": "markdown",
      "source": [
        "###Test paths to artifacts"
      ],
      "metadata": {
        "id": "4Rl1JGfK9iRn"
      },
      "id": "4Rl1JGfK9iRn"
    },
    {
      "cell_type": "code",
      "source": [
        "# Create a GCS file system object\n",
        "fs = gcsfs.GCSFileSystem()\n",
        "\n",
        "with fs.open(scaler_path, 'rb') as f:\n",
        "    scaler = joblib.load(f)\n",
        "\n",
        "scaler"
      ],
      "metadata": {
        "colab": {
          "base_uri": "https://localhost:8080/",
          "height": 147
        },
        "id": "ANTkQsl4mYMo",
        "executionInfo": {
          "status": "ok",
          "timestamp": 1714666953244,
          "user_tz": 420,
          "elapsed": 6011,
          "user": {
            "displayName": "",
            "userId": ""
          }
        },
        "outputId": "c9ccd068-af86-43f1-d921-cd68cf99ecdc"
      },
      "id": "ANTkQsl4mYMo",
      "execution_count": null,
      "outputs": [
        {
          "output_type": "stream",
          "name": "stderr",
          "text": [
            "/usr/local/lib/python3.10/dist-packages/sklearn/base.py:318: UserWarning: Trying to unpickle estimator StandardScaler from version 1.0.2 when using version 1.2.2. This might lead to breaking code or invalid results. Use at your own risk. For more info please refer to:\n",
            "https://scikit-learn.org/stable/model_persistence.html#security-maintainability-limitations\n",
            "  warnings.warn(\n"
          ]
        },
        {
          "output_type": "execute_result",
          "data": {
            "text/plain": [
              "StandardScaler()"
            ],
            "text/html": [
              "<style>#sk-container-id-1 {color: black;background-color: white;}#sk-container-id-1 pre{padding: 0;}#sk-container-id-1 div.sk-toggleable {background-color: white;}#sk-container-id-1 label.sk-toggleable__label {cursor: pointer;display: block;width: 100%;margin-bottom: 0;padding: 0.3em;box-sizing: border-box;text-align: center;}#sk-container-id-1 label.sk-toggleable__label-arrow:before {content: \"▸\";float: left;margin-right: 0.25em;color: #696969;}#sk-container-id-1 label.sk-toggleable__label-arrow:hover:before {color: black;}#sk-container-id-1 div.sk-estimator:hover label.sk-toggleable__label-arrow:before {color: black;}#sk-container-id-1 div.sk-toggleable__content {max-height: 0;max-width: 0;overflow: hidden;text-align: left;background-color: #f0f8ff;}#sk-container-id-1 div.sk-toggleable__content pre {margin: 0.2em;color: black;border-radius: 0.25em;background-color: #f0f8ff;}#sk-container-id-1 input.sk-toggleable__control:checked~div.sk-toggleable__content {max-height: 200px;max-width: 100%;overflow: auto;}#sk-container-id-1 input.sk-toggleable__control:checked~label.sk-toggleable__label-arrow:before {content: \"▾\";}#sk-container-id-1 div.sk-estimator input.sk-toggleable__control:checked~label.sk-toggleable__label {background-color: #d4ebff;}#sk-container-id-1 div.sk-label input.sk-toggleable__control:checked~label.sk-toggleable__label {background-color: #d4ebff;}#sk-container-id-1 input.sk-hidden--visually {border: 0;clip: rect(1px 1px 1px 1px);clip: rect(1px, 1px, 1px, 1px);height: 1px;margin: -1px;overflow: hidden;padding: 0;position: absolute;width: 1px;}#sk-container-id-1 div.sk-estimator {font-family: monospace;background-color: #f0f8ff;border: 1px dotted black;border-radius: 0.25em;box-sizing: border-box;margin-bottom: 0.5em;}#sk-container-id-1 div.sk-estimator:hover {background-color: #d4ebff;}#sk-container-id-1 div.sk-parallel-item::after {content: \"\";width: 100%;border-bottom: 1px solid gray;flex-grow: 1;}#sk-container-id-1 div.sk-label:hover label.sk-toggleable__label {background-color: #d4ebff;}#sk-container-id-1 div.sk-serial::before {content: \"\";position: absolute;border-left: 1px solid gray;box-sizing: border-box;top: 0;bottom: 0;left: 50%;z-index: 0;}#sk-container-id-1 div.sk-serial {display: flex;flex-direction: column;align-items: center;background-color: white;padding-right: 0.2em;padding-left: 0.2em;position: relative;}#sk-container-id-1 div.sk-item {position: relative;z-index: 1;}#sk-container-id-1 div.sk-parallel {display: flex;align-items: stretch;justify-content: center;background-color: white;position: relative;}#sk-container-id-1 div.sk-item::before, #sk-container-id-1 div.sk-parallel-item::before {content: \"\";position: absolute;border-left: 1px solid gray;box-sizing: border-box;top: 0;bottom: 0;left: 50%;z-index: -1;}#sk-container-id-1 div.sk-parallel-item {display: flex;flex-direction: column;z-index: 1;position: relative;background-color: white;}#sk-container-id-1 div.sk-parallel-item:first-child::after {align-self: flex-end;width: 50%;}#sk-container-id-1 div.sk-parallel-item:last-child::after {align-self: flex-start;width: 50%;}#sk-container-id-1 div.sk-parallel-item:only-child::after {width: 0;}#sk-container-id-1 div.sk-dashed-wrapped {border: 1px dashed gray;margin: 0 0.4em 0.5em 0.4em;box-sizing: border-box;padding-bottom: 0.4em;background-color: white;}#sk-container-id-1 div.sk-label label {font-family: monospace;font-weight: bold;display: inline-block;line-height: 1.2em;}#sk-container-id-1 div.sk-label-container {text-align: center;}#sk-container-id-1 div.sk-container {/* jupyter's `normalize.less` sets `[hidden] { display: none; }` but bootstrap.min.css set `[hidden] { display: none !important; }` so we also need the `!important` here to be able to override the default hidden behavior on the sphinx rendered scikit-learn.org. See: https://github.com/scikit-learn/scikit-learn/issues/21755 */display: inline-block !important;position: relative;}#sk-container-id-1 div.sk-text-repr-fallback {display: none;}</style><div id=\"sk-container-id-1\" class=\"sk-top-container\"><div class=\"sk-text-repr-fallback\"><pre>StandardScaler()</pre><b>In a Jupyter environment, please rerun this cell to show the HTML representation or trust the notebook. <br />On GitHub, the HTML representation is unable to render, please try loading this page with nbviewer.org.</b></div><div class=\"sk-container\" hidden><div class=\"sk-item\"><div class=\"sk-estimator sk-toggleable\"><input class=\"sk-toggleable__control sk-hidden--visually\" id=\"sk-estimator-id-1\" type=\"checkbox\" checked><label for=\"sk-estimator-id-1\" class=\"sk-toggleable__label sk-toggleable__label-arrow\">StandardScaler</label><div class=\"sk-toggleable__content\"><pre>StandardScaler()</pre></div></div></div></div></div>"
            ]
          },
          "metadata": {},
          "execution_count": 13
        }
      ]
    },
    {
      "cell_type": "code",
      "source": [
        "# Create a GCS file system object\n",
        "fs = gcsfs.GCSFileSystem()\n",
        "\n",
        "with fs.open(model_path, 'rb') as f:\n",
        "    model = joblib.load(f)\n",
        "\n",
        "model"
      ],
      "metadata": {
        "colab": {
          "base_uri": "https://localhost:8080/",
          "height": 199
        },
        "id": "sXHR5EClmsLV",
        "executionInfo": {
          "status": "ok",
          "timestamp": 1714666955999,
          "user_tz": 420,
          "elapsed": 2761,
          "user": {
            "displayName": "",
            "userId": ""
          }
        },
        "outputId": "d7abd233-d5b2-47ff-f40d-da61b6498a17"
      },
      "id": "sXHR5EClmsLV",
      "execution_count": null,
      "outputs": [
        {
          "output_type": "stream",
          "name": "stderr",
          "text": [
            "/usr/local/lib/python3.10/dist-packages/sklearn/base.py:318: UserWarning: Trying to unpickle estimator DecisionTreeClassifier from version 1.0.2 when using version 1.2.2. This might lead to breaking code or invalid results. Use at your own risk. For more info please refer to:\n",
            "https://scikit-learn.org/stable/model_persistence.html#security-maintainability-limitations\n",
            "  warnings.warn(\n",
            "/usr/local/lib/python3.10/dist-packages/sklearn/base.py:318: UserWarning: Trying to unpickle estimator RandomForestClassifier from version 1.0.2 when using version 1.2.2. This might lead to breaking code or invalid results. Use at your own risk. For more info please refer to:\n",
            "https://scikit-learn.org/stable/model_persistence.html#security-maintainability-limitations\n",
            "  warnings.warn(\n"
          ]
        },
        {
          "output_type": "execute_result",
          "data": {
            "text/plain": [
              "RandomForestClassifier(max_features='auto', random_state=42)"
            ],
            "text/html": [
              "<style>#sk-container-id-2 {color: black;background-color: white;}#sk-container-id-2 pre{padding: 0;}#sk-container-id-2 div.sk-toggleable {background-color: white;}#sk-container-id-2 label.sk-toggleable__label {cursor: pointer;display: block;width: 100%;margin-bottom: 0;padding: 0.3em;box-sizing: border-box;text-align: center;}#sk-container-id-2 label.sk-toggleable__label-arrow:before {content: \"▸\";float: left;margin-right: 0.25em;color: #696969;}#sk-container-id-2 label.sk-toggleable__label-arrow:hover:before {color: black;}#sk-container-id-2 div.sk-estimator:hover label.sk-toggleable__label-arrow:before {color: black;}#sk-container-id-2 div.sk-toggleable__content {max-height: 0;max-width: 0;overflow: hidden;text-align: left;background-color: #f0f8ff;}#sk-container-id-2 div.sk-toggleable__content pre {margin: 0.2em;color: black;border-radius: 0.25em;background-color: #f0f8ff;}#sk-container-id-2 input.sk-toggleable__control:checked~div.sk-toggleable__content {max-height: 200px;max-width: 100%;overflow: auto;}#sk-container-id-2 input.sk-toggleable__control:checked~label.sk-toggleable__label-arrow:before {content: \"▾\";}#sk-container-id-2 div.sk-estimator input.sk-toggleable__control:checked~label.sk-toggleable__label {background-color: #d4ebff;}#sk-container-id-2 div.sk-label input.sk-toggleable__control:checked~label.sk-toggleable__label {background-color: #d4ebff;}#sk-container-id-2 input.sk-hidden--visually {border: 0;clip: rect(1px 1px 1px 1px);clip: rect(1px, 1px, 1px, 1px);height: 1px;margin: -1px;overflow: hidden;padding: 0;position: absolute;width: 1px;}#sk-container-id-2 div.sk-estimator {font-family: monospace;background-color: #f0f8ff;border: 1px dotted black;border-radius: 0.25em;box-sizing: border-box;margin-bottom: 0.5em;}#sk-container-id-2 div.sk-estimator:hover {background-color: #d4ebff;}#sk-container-id-2 div.sk-parallel-item::after {content: \"\";width: 100%;border-bottom: 1px solid gray;flex-grow: 1;}#sk-container-id-2 div.sk-label:hover label.sk-toggleable__label {background-color: #d4ebff;}#sk-container-id-2 div.sk-serial::before {content: \"\";position: absolute;border-left: 1px solid gray;box-sizing: border-box;top: 0;bottom: 0;left: 50%;z-index: 0;}#sk-container-id-2 div.sk-serial {display: flex;flex-direction: column;align-items: center;background-color: white;padding-right: 0.2em;padding-left: 0.2em;position: relative;}#sk-container-id-2 div.sk-item {position: relative;z-index: 1;}#sk-container-id-2 div.sk-parallel {display: flex;align-items: stretch;justify-content: center;background-color: white;position: relative;}#sk-container-id-2 div.sk-item::before, #sk-container-id-2 div.sk-parallel-item::before {content: \"\";position: absolute;border-left: 1px solid gray;box-sizing: border-box;top: 0;bottom: 0;left: 50%;z-index: -1;}#sk-container-id-2 div.sk-parallel-item {display: flex;flex-direction: column;z-index: 1;position: relative;background-color: white;}#sk-container-id-2 div.sk-parallel-item:first-child::after {align-self: flex-end;width: 50%;}#sk-container-id-2 div.sk-parallel-item:last-child::after {align-self: flex-start;width: 50%;}#sk-container-id-2 div.sk-parallel-item:only-child::after {width: 0;}#sk-container-id-2 div.sk-dashed-wrapped {border: 1px dashed gray;margin: 0 0.4em 0.5em 0.4em;box-sizing: border-box;padding-bottom: 0.4em;background-color: white;}#sk-container-id-2 div.sk-label label {font-family: monospace;font-weight: bold;display: inline-block;line-height: 1.2em;}#sk-container-id-2 div.sk-label-container {text-align: center;}#sk-container-id-2 div.sk-container {/* jupyter's `normalize.less` sets `[hidden] { display: none; }` but bootstrap.min.css set `[hidden] { display: none !important; }` so we also need the `!important` here to be able to override the default hidden behavior on the sphinx rendered scikit-learn.org. See: https://github.com/scikit-learn/scikit-learn/issues/21755 */display: inline-block !important;position: relative;}#sk-container-id-2 div.sk-text-repr-fallback {display: none;}</style><div id=\"sk-container-id-2\" class=\"sk-top-container\"><div class=\"sk-text-repr-fallback\"><pre>RandomForestClassifier(max_features=&#x27;auto&#x27;, random_state=42)</pre><b>In a Jupyter environment, please rerun this cell to show the HTML representation or trust the notebook. <br />On GitHub, the HTML representation is unable to render, please try loading this page with nbviewer.org.</b></div><div class=\"sk-container\" hidden><div class=\"sk-item\"><div class=\"sk-estimator sk-toggleable\"><input class=\"sk-toggleable__control sk-hidden--visually\" id=\"sk-estimator-id-2\" type=\"checkbox\" checked><label for=\"sk-estimator-id-2\" class=\"sk-toggleable__label sk-toggleable__label-arrow\">RandomForestClassifier</label><div class=\"sk-toggleable__content\"><pre>RandomForestClassifier(max_features=&#x27;auto&#x27;, random_state=42)</pre></div></div></div></div></div>"
            ]
          },
          "metadata": {},
          "execution_count": 14
        }
      ]
    },
    {
      "cell_type": "markdown",
      "source": [
        "#Define components"
      ],
      "metadata": {
        "id": "Rw4wV0aWAbYG"
      },
      "id": "Rw4wV0aWAbYG"
    },
    {
      "cell_type": "markdown",
      "source": [
        "## Common dataset preparation steps"
      ],
      "metadata": {
        "id": "n8RlAETQjqRA"
      },
      "id": "n8RlAETQjqRA"
    },
    {
      "cell_type": "code",
      "source": [
        "from kfp.v2.dsl import InputPath, OutputPath, Dataset\n",
        "\n",
        "@component(packages_to_install=[\"pandas\", \"numpy\", \"fsspec\", \"gcsfs\"])\n",
        "def perform_initial_data_preparation(input_dataset_path: str, output_dataset_path: OutputPath(Dataset)):\n",
        "    import pandas as pd\n",
        "    import numpy as np\n",
        "\n",
        "    df = pd.read_csv(input_dataset_path)\n",
        "\n",
        "    df['income_log'] = np.log1p(df['income'])\n",
        "    df.drop(['income', 'glucose'], axis=1, inplace=True)\n",
        "\n",
        "\n",
        "    df['education'].fillna(5, inplace=True)\n",
        "\n",
        "\n",
        "    df.to_csv(output_dataset_path, index=False)"
      ],
      "metadata": {
        "id": "_4OiYx7sj6Nd",
        "executionInfo": {
          "status": "ok",
          "timestamp": 1714666955999,
          "user_tz": 420,
          "elapsed": 26,
          "user": {
            "displayName": "",
            "userId": ""
          }
        },
        "colab": {
          "base_uri": "https://localhost:8080/"
        },
        "outputId": "f4b8196a-f4ad-45c5-ecc6-7334cd57c929"
      },
      "id": "_4OiYx7sj6Nd",
      "execution_count": null,
      "outputs": [
        {
          "output_type": "stream",
          "name": "stderr",
          "text": [
            "/usr/local/lib/python3.10/dist-packages/kfp/dsl/component_decorator.py:119: FutureWarning: Python 3.7 has reached end-of-life. The default base_image used by the @dsl.component decorator will switch from 'python:3.7' to 'python:3.8' on April 23, 2024. To ensure your existing components work with versions of the KFP SDK released after that date, you should provide an explicit base_image argument and ensure your component works as intended on Python 3.8.\n",
            "  return component_factory.create_component_from_func(\n"
          ]
        }
      ]
    },
    {
      "cell_type": "markdown",
      "source": [
        "##One-hot encoding"
      ],
      "metadata": {
        "id": "LGqfKuuQed6V"
      },
      "id": "LGqfKuuQed6V"
    },
    {
      "cell_type": "code",
      "source": [
        "from kfp.v2.dsl import InputPath\n",
        "\n",
        "@component(packages_to_install=[\"pandas\", \"scikit-learn\"])\n",
        "def onehot_encoding(dataset_path: InputPath('Dataset'),\n",
        "                  output_path: OutputPath('Dataset')\n",
        "                  ):\n",
        "    import pandas as pd\n",
        "    df = pd.read_csv(dataset_path)\n",
        "    df_education = pd.get_dummies(df['education'],drop_first=True)\n",
        "    df_education.columns = ['education_2', 'education_3', 'education_4', 'education_5']\n",
        "    df_education = df_education.astype(int)\n",
        "\n",
        "    df = pd.concat([df, df_education], axis=1)\n",
        "    df.to_csv(output_path, index=False )"
      ],
      "metadata": {
        "id": "OLptv_T4ejPR"
      },
      "id": "OLptv_T4ejPR",
      "execution_count": null,
      "outputs": []
    },
    {
      "cell_type": "markdown",
      "source": [
        "##Outlier Handling"
      ],
      "metadata": {
        "id": "Skrb9yb-ij_t"
      },
      "id": "Skrb9yb-ij_t"
    },
    {
      "cell_type": "code",
      "source": [
        "from kfp.v2.dsl import Input\n",
        "from kfp.v2.dsl import Model\n",
        "\n",
        "@component(packages_to_install=[\"pandas\", \"fsspec\", \"gcsfs\"])\n",
        "def outlier_test(test_dataset_path: InputPath('Dataset'),\n",
        "                      test_outlier_output_path: OutputPath('Dataset'),\n",
        "                      iqr_values: str):\n",
        "\n",
        "    import pandas as pd\n",
        "    import numpy as np\n",
        "    # Load the test dataset\n",
        "    df = pd.read_csv(test_dataset_path)\n",
        "\n",
        "\n",
        "    iqr_dictionary = pd.read_json(iqr_values).to_dict()\n",
        "\n",
        "    Q1 = pd.Series(iqr_dictionary['artifacts']['iqr_values']['artifacts'][0]['metadata']['Q1'])\n",
        "    Q3 = pd.Series(iqr_dictionary['artifacts']['iqr_values']['artifacts'][0]['metadata']['Q3'])\n",
        "    IQR = pd.Series(iqr_dictionary['artifacts']['iqr_values']['artifacts'][0]['metadata']['IQR'])\n",
        "\n",
        "    # Apply outlier detection based on the IQR values\n",
        "    lower_bound = Q1 - 1.5 * IQR\n",
        "    upper_bound = Q3 + 1.5 * IQR\n",
        "    for col in df.columns:\n",
        "        if col in ['age', 'a1c',  'cigsPerDay', 'income_log', 'totChol', 'sysBP', 'diaBP', 'BMI', 'heartRate']:\n",
        "          df[col] = np.where(df[col] < lower_bound[col], lower_bound[col], df[col])\n",
        "          df[col] = np.where(df[col] > upper_bound[col], upper_bound[col], df[col])\n",
        "\n",
        "\n",
        "    # Save the imputed dataframe to the output path\n",
        "    df.to_csv(test_outlier_output_path, index=False)"
      ],
      "metadata": {
        "id": "3FBmL9bIitPm"
      },
      "id": "3FBmL9bIitPm",
      "execution_count": null,
      "outputs": []
    },
    {
      "cell_type": "markdown",
      "source": [
        "## Impute component"
      ],
      "metadata": {
        "id": "GfVG15wuA1nP"
      },
      "id": "GfVG15wuA1nP"
    },
    {
      "cell_type": "code",
      "source": [
        "from kfp.v2.dsl import Input\n",
        "from kfp.v2.dsl import Model\n",
        "\n",
        "@component(packages_to_install=[\"pandas\", \"fsspec\", \"gcsfs\"])\n",
        "def impute_test(test_dataset_path: InputPath('Dataset'),\n",
        "                      imputed_dataset_path: OutputPath('Dataset'),\n",
        "                      imputed_values: str):\n",
        "\n",
        "    import pandas as pd\n",
        "    # Load the test dataset\n",
        "    df = pd.read_csv(test_dataset_path)\n",
        "\n",
        "    impute_dictionary = pd.read_json(imputed_values).to_dict()\n",
        "    imputed_values = pd.Series(impute_dictionary['artifacts']['imputed_values']['artifacts'][0]['metadata']['medians'])\n",
        "\n",
        "    # Columns to impute median values for\n",
        "    columns_to_impute = ['age', 'cigsPerDay', 'BPMeds', 'totChol', 'BMI', 'heartRate', 'a1c','sysBP', 'diaBP', 'income_log']\n",
        "\n",
        "    # Impute missing values using the provided median values\n",
        "    for col in columns_to_impute:\n",
        "        df[col].fillna(imputed_values[col], inplace=True)\n",
        "\n",
        "    # Save the imputed dataframe to the output path\n",
        "    df.to_csv(imputed_dataset_path, index=False)"
      ],
      "metadata": {
        "id": "dU1V7mjNg-07"
      },
      "id": "dU1V7mjNg-07",
      "execution_count": null,
      "outputs": []
    },
    {
      "cell_type": "markdown",
      "source": [
        "##Normalising component"
      ],
      "metadata": {
        "id": "Zzzq0pVP4jAG"
      },
      "id": "Zzzq0pVP4jAG"
    },
    {
      "cell_type": "code",
      "source": [
        "from kfp.v2.dsl import Input\n",
        "from kfp.v2.dsl import Artifact\n",
        "\n",
        "@component(packages_to_install=[\"pandas\", \"scikit-learn\",\"joblib\", \"fsspec\", \"gcsfs\"])\n",
        "def normalise_test(\n",
        "                       test_dataset_path: InputPath('Dataset'),\n",
        "                       scaler_path: str,\n",
        "                      normalised_test_dataset_path: OutputPath('Dataset')\n",
        "                       ):\n",
        "\n",
        "    # Load the training dataset\n",
        "    import pandas as pd\n",
        "    from sklearn.preprocessing import StandardScaler\n",
        "    import joblib\n",
        "    import gcsfs\n",
        "\n",
        "    validation_df = pd.read_csv(test_dataset_path)\n",
        "\n",
        "    fs = gcsfs.GCSFileSystem()\n",
        "\n",
        "    with fs.open(scaler_path, 'rb') as f:\n",
        "      scaler = joblib.load(f)\n",
        "\n",
        "    # Define the columns to scale and the numeric columns\n",
        "    columns_to_scale = ['age',  'cigsPerDay', 'totChol', 'sysBP',  'BMI', 'heartRate',  'a1c', 'income_log', 'diaBP']\n",
        "    # numeric_columns = ['male', 'currentSmoker', 'BPMeds', 'prevalentStroke', 'prevalentHyp', 'diabetes']\n",
        "\n",
        "    # Separate the columns to be scaled and the numeric columns\n",
        "    X_val_scaled = validation_df[columns_to_scale]\n",
        "    # X_val_numeric = validation_df[numeric_columns]\n",
        "    # y_val = validation_df['TenYearCHD']\n",
        "\n",
        "    X_validation_normalized = scaler.transform(X_val_scaled)\n",
        "\n",
        "    validation_df[columns_to_scale] = X_validation_normalized\n",
        "\n",
        "    # Create DataFrames for the scaled columns and the numeric columns\n",
        "    # X_val_scaled_df = pd.DataFrame(X_validation_normalized, columns=columns_to_scale)\n",
        "    # X_val_numeric_df = validation_df[numeric_columns]\n",
        "    # y_val_df = pd.DataFrame(y_val, columns=['TenYearCHD'])\n",
        "\n",
        "    # Concatenate the scaled columns, numeric columns, and target into a single DataFrame\n",
        "    # normalised_validation_df = pd.concat([X_val_scaled_df, X_val_numeric_df, y_val_df], axis=1)\n",
        "\n",
        "    # Save the imputed dataframe to the output path\n",
        "    validation_df.to_csv(normalised_test_dataset_path, index=False)"
      ],
      "metadata": {
        "id": "tDdJP9oB4h-O"
      },
      "id": "tDdJP9oB4h-O",
      "execution_count": null,
      "outputs": []
    },
    {
      "cell_type": "markdown",
      "source": [
        "## Perform Predictions\n"
      ],
      "metadata": {
        "id": "3W9YAbTGxP76"
      },
      "id": "3W9YAbTGxP76"
    },
    {
      "cell_type": "code",
      "source": [
        "# @component(packages_to_install=[\"pandas\", \"numpy\", \"scikit-learn\", \"joblib\", \"fsspec\", \"gcsfs\"])\n",
        "# def perform_predictions(dataset_for_prediction_path: InputPath('Dataset'),\n",
        "#                    model_path: str,\n",
        "#                    predictions_path: OutputPath('Dataset')):\n",
        "\n",
        "#     import pandas as pd\n",
        "#     import joblib\n",
        "#     import gcsfs\n",
        "\n",
        "#     # Create a GCS file system object\n",
        "#     fs = gcsfs.GCSFileSystem()\n",
        "\n",
        "#     # Load the trained model\n",
        "#     with fs.open(model_path, 'rb') as f:\n",
        "#       trained_model = joblib.load(f)\n",
        "\n",
        "#     # Load the test dataset\n",
        "#     pred_df = pd.read_csv(dataset_for_prediction_path)\n",
        "\n",
        "#     # Make predictions\n",
        "#     y_pred = trained_model.predict(pred_df)\n",
        "#     pred_df['TenYearCHD_pred'] = y_pred\n",
        "#     pred_df = pred_df[['patientID', 'TenYearCHD_pred']]\n",
        "\n",
        "#     # Save the predictions\n",
        "#     pred_df.to_csv(predictions_path, index=False)"
      ],
      "metadata": {
        "id": "1S0Y76IGxTTA"
      },
      "id": "1S0Y76IGxTTA",
      "execution_count": null,
      "outputs": []
    },
    {
      "cell_type": "code",
      "source": [
        "@component(packages_to_install=[\"pandas\", \"numpy\", \"scikit-learn\", \"joblib\", \"fsspec\", \"gcsfs\"])\n",
        "def perform_predictions(dataset_for_prediction_path: InputPath('Dataset'),\n",
        "                   model_path: str,\n",
        "                   predictions_path: str):\n",
        "\n",
        "    import pandas as pd\n",
        "    import joblib\n",
        "    import gcsfs\n",
        "\n",
        "    # Create a GCS file system object\n",
        "    fs = gcsfs.GCSFileSystem()\n",
        "\n",
        "    # Load the trained model\n",
        "    with fs.open(model_path, 'rb') as f:\n",
        "      trained_model = joblib.load(f)\n",
        "\n",
        "    # Load the test dataset\n",
        "    pred_df = pd.read_csv(dataset_for_prediction_path)\n",
        "\n",
        "    # Make predictions\n",
        "    y_pred = trained_model.predict(pred_df)\n",
        "    pred_df['TenYearCHD_pred'] = y_pred\n",
        "    pred_df = pred_df[['patientID', 'TenYearCHD_pred']]\n",
        "\n",
        "    # Upload the local predictions to GCS\n",
        "    with fs.open(predictions_path, 'rb') as local_file:\n",
        "        with fs.open(predictions_path, 'wb') as gcs_file:\n",
        "            gcs_file.write(local_file.read())\n",
        "\n",
        "    # Output the local predictions path\n",
        "    return predictions_path"
      ],
      "metadata": {
        "id": "0o9yTRveKUY1"
      },
      "id": "0o9yTRveKUY1",
      "execution_count": null,
      "outputs": []
    },
    {
      "cell_type": "markdown",
      "source": [
        "# Define pipeline"
      ],
      "metadata": {
        "id": "RoIaZjDUBI4B"
      },
      "id": "RoIaZjDUBI4B"
    },
    {
      "cell_type": "markdown",
      "source": [
        "## Define pipeline"
      ],
      "metadata": {
        "id": "lOVMDtYzxZqv"
      },
      "id": "lOVMDtYzxZqv"
    },
    {
      "cell_type": "code",
      "source": [
        "from kfp.v2.dsl import pipeline, Output, Dataset\n",
        "iqr_artifact_path = \"gs://finalproject_ise543/753516815850/fp-pipeline-20240430182301/outlier-training_-9149797597806854144/executor_output.json\"\n",
        "imputed_artifact_path = \"gs://finalproject_ise543/753516815850/fp-pipeline-20240430182301/impute-training_4469087675361525760/executor_output.json\"\n",
        "scaler_path = 'gs://finalproject_ise543/753516815850/fp-pipeline-20240430182301/normalise-training_9080773693788913664/scaler_path'\n",
        "model_path = 'gs://finalproject_ise543/753516815850/fp-pipeline-20240430182301/grid-search_-2448441352279556096/best_model_path'\n",
        "prediction_path = ''\n",
        "\n",
        "@pipeline(name='fp_inference_pipeline')\n",
        "def fp_inference_pipeline(input_dataset_path: str,\n",
        "                               iqr_values: str = iqr_artifact_path,\n",
        "                               imputed_values:  str = imputed_artifact_path,\n",
        "                               scaler_path:  str = scaler_path,\n",
        "                               model_path: str = model_path):\n",
        "\n",
        "    # Process dataset - initial data preparation\n",
        "    initial_prepared_dataset = perform_initial_data_preparation(input_dataset_path=input_dataset_path)\n",
        "\n",
        "    #One-hot encoding\n",
        "    one_hot_encoding = onehot_encoding(dataset_path=initial_prepared_dataset.outputs['output_dataset_path'])\n",
        "\n",
        "    # Outlier Handling\n",
        "    outlier_dataset = outlier_test(test_dataset_path=one_hot_encoding.outputs['output_path'],\n",
        "                                                   iqr_values=iqr_values)\n",
        "\n",
        "    # Process imputation\n",
        "    imputed_data = impute_test(test_dataset_path=outlier_dataset.outputs['test_outlier_output_path'],\n",
        "                                        imputed_values=imputed_values )\n",
        "\n",
        "    #Process normalisation\n",
        "    normalised_result = normalise_test(test_dataset_path=imputed_data.outputs['imputed_dataset_path'],\n",
        "                                                        scaler_path=scaler_path)\n",
        "\n",
        "    perform_predictions(\n",
        "        dataset_for_prediction_path=normalised_result.outputs['normalised_test_dataset_path'],\n",
        "        model_path=model_path\n",
        "    )"
      ],
      "metadata": {
        "id": "7rMmQYvcoaRl"
      },
      "id": "7rMmQYvcoaRl",
      "execution_count": null,
      "outputs": []
    },
    {
      "cell_type": "markdown",
      "source": [
        "#  Compile and run pipeline"
      ],
      "metadata": {
        "id": "GtRqnVbnBM-b"
      },
      "id": "GtRqnVbnBM-b"
    },
    {
      "cell_type": "code",
      "source": [
        "from kfp.v2 import compiler\n",
        "\n",
        "compiler.Compiler().compile(\n",
        "    pipeline_func = fp_inference_pipeline,\n",
        "    package_path = 'fp_inference_pipeline.json'\n",
        ")\n",
        "\n",
        "pipeline_job = aiplatform.PipelineJob(\n",
        "    display_name='fp_inference_pipeline',\n",
        "    template_path='fp_inference_pipeline.json',\n",
        "    pipeline_root='gs://finalproject_ise543',\n",
        "    parameter_values={\n",
        "        'input_dataset_path': 'gs://finalproject_ise543/Final Project Evaluation Dataset - Student(1).csv'\n",
        "    },\n",
        "    enable_caching=True\n",
        ")\n",
        "\n",
        "pipeline_job.run()"
      ],
      "metadata": {
        "id": "0U3yrSwInxSo",
        "executionInfo": {
          "status": "ok",
          "timestamp": 1714666967526,
          "user_tz": 420,
          "elapsed": 11311,
          "user": {
            "displayName": "",
            "userId": ""
          }
        },
        "colab": {
          "base_uri": "https://localhost:8080/"
        },
        "outputId": "2299c6d8-00b5-433b-bbcc-fa818460b046"
      },
      "id": "0U3yrSwInxSo",
      "execution_count": null,
      "outputs": [
        {
          "output_type": "stream",
          "name": "stderr",
          "text": [
            "INFO:google.cloud.aiplatform.pipeline_jobs:Creating PipelineJob\n",
            "INFO:google.cloud.aiplatform.pipeline_jobs:PipelineJob created. Resource name: projects/753516815850/locations/us-central1/pipelineJobs/fp-inference-pipeline-20240502162234\n",
            "INFO:google.cloud.aiplatform.pipeline_jobs:To use this PipelineJob in another session:\n",
            "INFO:google.cloud.aiplatform.pipeline_jobs:pipeline_job = aiplatform.PipelineJob.get('projects/753516815850/locations/us-central1/pipelineJobs/fp-inference-pipeline-20240502162234')\n",
            "INFO:google.cloud.aiplatform.pipeline_jobs:View Pipeline Job:\n",
            "https://console.cloud.google.com/vertex-ai/locations/us-central1/pipelines/runs/fp-inference-pipeline-20240502162234?project=753516815850\n",
            "INFO:google.cloud.aiplatform.pipeline_jobs:PipelineJob projects/753516815850/locations/us-central1/pipelineJobs/fp-inference-pipeline-20240502162234 current state:\n",
            "PipelineState.PIPELINE_STATE_RUNNING\n",
            "INFO:google.cloud.aiplatform.pipeline_jobs:PipelineJob run completed. Resource name: projects/753516815850/locations/us-central1/pipelineJobs/fp-inference-pipeline-20240502162234\n"
          ]
        }
      ]
    },
    {
      "cell_type": "markdown",
      "source": [],
      "metadata": {
        "id": "3Yfj_sJXqe0i"
      },
      "id": "3Yfj_sJXqe0i"
    },
    {
      "cell_type": "markdown",
      "source": [],
      "metadata": {
        "id": "saTw5fDBqe4E"
      },
      "id": "saTw5fDBqe4E"
    },
    {
      "cell_type": "markdown",
      "source": [],
      "metadata": {
        "id": "IWjxiIPSqe7Z"
      },
      "id": "IWjxiIPSqe7Z"
    }
  ],
  "metadata": {
    "kernelspec": {
      "display_name": "Python 3",
      "language": "python",
      "name": "python3"
    },
    "language_info": {
      "codemirror_mode": {
        "name": "ipython",
        "version": 3
      },
      "file_extension": ".py",
      "mimetype": "text/x-python",
      "name": "python",
      "nbconvert_exporter": "python",
      "pygments_lexer": "ipython3",
      "version": "3.10.10"
    },
    "colab": {
      "provenance": [],
      "name": "fp inference",
      "toc_visible": true
    }
  },
  "nbformat": 4,
  "nbformat_minor": 5
}